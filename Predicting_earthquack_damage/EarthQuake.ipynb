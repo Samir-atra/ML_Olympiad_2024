{
 "cells": [
  {
   "cell_type": "code",
   "execution_count": 5,
   "metadata": {},
   "outputs": [
    {
     "ename": "TypeError",
     "evalue": "'_csv.reader' object is not subscriptable",
     "output_type": "error",
     "traceback": [
      "\u001b[0;31m---------------------------------------------------------------------------\u001b[0m",
      "\u001b[0;31mTypeError\u001b[0m                                 Traceback (most recent call last)",
      "Cell \u001b[0;32mIn[5], line 12\u001b[0m\n\u001b[1;32m     10\u001b[0m     x \u001b[38;5;241m=\u001b[39m csv\u001b[38;5;241m.\u001b[39mreader(file)\n\u001b[1;32m     11\u001b[0m     xx \u001b[38;5;241m=\u001b[39m np\u001b[38;5;241m.\u001b[39marray((x))\n\u001b[0;32m---> 12\u001b[0m     \u001b[38;5;28mprint\u001b[39m(\u001b[43mx\u001b[49m\u001b[43m[\u001b[49m\u001b[43m:\u001b[49m\u001b[43m,\u001b[49m\u001b[38;5;241;43m6\u001b[39;49m\u001b[43m]\u001b[49m)\n\u001b[1;32m     15\u001b[0m imp \u001b[38;5;241m=\u001b[39m SimpleImputer(missing_values\u001b[38;5;241m=\u001b[39mnp\u001b[38;5;241m.\u001b[39mnan, strategy\u001b[38;5;241m=\u001b[39m\u001b[38;5;124m'\u001b[39m\u001b[38;5;124mmean\u001b[39m\u001b[38;5;124m'\u001b[39m,keep_empty_features\u001b[38;5;241m=\u001b[39m\u001b[38;5;28;01mTrue\u001b[39;00m)\n\u001b[1;32m     16\u001b[0m \u001b[38;5;66;03m# create dataset\u001b[39;00m\n",
      "\u001b[0;31mTypeError\u001b[0m: '_csv.reader' object is not subscriptable"
     ]
    }
   ],
   "source": [
    "# Import\n",
    "import csv\n",
    "import numpy as np\n",
    "import tensorflow as tf\n",
    "from sklearn.impute import SimpleImputer\n",
    "import matplotlib.pyplot as plt\n",
    "\n",
    "\n",
    "\n",
    "imp = SimpleImputer(missing_values=np.nan, strategy='mean',keep_empty_features=True)\n",
    "# create dataset\n",
    "features = []\n",
    "labels = []\n",
    "data = np.genfromtxt('train.csv', delimiter=',', skip_header=1)\n",
    "inputs = data[:, 0:35]\n",
    "outputs = data[:, 36]\n",
    "test = inputs[:, 6]\n",
    "print(test)\n",
    "\n",
    "imp.fit(inputs)\n",
    "inputs=imp.transform(inputs)\n",
    "# print(inputs)\n",
    "\n",
    "# building model\n",
    "model = tf.keras.Sequential([\n",
    "    tf.keras.layers.Flatten(),\n",
    "    tf.keras.layers.Dense(55, activation = \"relu\"),\n",
    "    tf.keras.layers.Dense(20,activation= 'relu'),\n",
    "    tf.keras.layers.Dense(20,activation= 'relu'),\n",
    "    tf.keras.layers.Dense(20,activation= 'relu'),\n",
    "    tf.keras.layers.Dense(20,activation= 'relu'),\n",
    "    tf.keras.layers.Dense(4, activation = 'softmax')\n",
    "])\n",
    "\n",
    "model.compile(\n",
    "    loss = 'sparse_categorical_crossentropy',\n",
    "    optimizer = tf.keras.optimizers.Adam(learning_rate= 0.00001),\n",
    "    metrics= ['accuracy'],\n",
    ")\n",
    "\n",
    "# fitting = model.fit(\n",
    "#     inputs,\n",
    "#     outputs,\n",
    "#     epochs = 100000\n",
    "# )\n",
    "\n",
    "# print(fitting.history['accuracy'])\n",
    "\n",
    "# x = plt.plot(fitting.history['accuracy'])\n",
    "# plt.show()\n",
    "# y = plt.plot(fitting.history['loss'])\n",
    "# plt.show()"
   ]
  }
 ],
 "metadata": {
  "kernelspec": {
   "display_name": "Python 3",
   "language": "python",
   "name": "python3"
  },
  "language_info": {
   "codemirror_mode": {
    "name": "ipython",
    "version": 3
   },
   "file_extension": ".py",
   "mimetype": "text/x-python",
   "name": "python",
   "nbconvert_exporter": "python",
   "pygments_lexer": "ipython3",
   "version": "3.9.18"
  }
 },
 "nbformat": 4,
 "nbformat_minor": 2
}
